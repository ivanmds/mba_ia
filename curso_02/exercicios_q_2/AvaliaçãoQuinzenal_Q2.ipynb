{
  "nbformat": 4,
  "nbformat_minor": 0,
  "metadata": {
    "colab": {
      "provenance": []
    },
    "kernelspec": {
      "name": "python3",
      "display_name": "Python 3"
    },
    "language_info": {
      "name": "python"
    }
  },
  "cells": [
    {
      "cell_type": "markdown",
      "source": [
        "### Questão 1\n",
        "Dadas as seguintes matrizes, calcule as medidas de avaliação baseadas na matriz de confusão (TFP, TFN, TVN, TVP).\n",
        "\n",
        "Matriz de confusão do classificador '1' <br>\n",
        "[[41 59]  <br>\n",
        " [ 3 97]] <br>\n",
        "Matriz de confusão do classificador '2' <br>\n",
        "[[96  4]  <br>\n",
        " [ 5 95]]  <br>\n",
        "Matriz de confusão do classificador '3'   <br>\n",
        "[[98  2]  <br>\n",
        " [ 3 97]]  <br>\n",
        "e escolha a **alternativa correta**. <br>\n",
        "\n",
        "a)\tA precisão obtida pelo Classificador '1' foi maior que para o Classificador '2'.<br>\n",
        "b)\tAs acurácias obtidas pelos três classificadores foram acima de 0.90 . <br>\n",
        "c)\tPode-se dizer que o Classificador '3' foi melhor que os demais, pois apresentou maior valor em todas as métricas calculadas.  <br>\n",
        "d)\tO valor do F1-score foi maior para Classificador '1' do que para a Classificador '3'. <br>\n",
        "e)\tNenhuma das anteriores. <br>\n",
        "\n",
        "\n"
      ],
      "metadata": {
        "id": "0C2_pUYFji4k"
      }
    },
    {
      "cell_type": "markdown",
      "source": [
        "### Questão 02.\n",
        "\n",
        "Suponha que em um problema de classificação binária de um dataset balanceado, um ciêntista de dados treinou três modelos diferentes e obteve as seguintes acurácias em um determinado conjunto de treino/teste:\n",
        "\n",
        "1. **Modelo A:** Treino = 0.95, Teste = 0.38\n",
        "2. **Modelo B:** Treino = 0.75, Teste = 0.74\n",
        "3. **Modelo C:** Treino = 0.35, Teste = 0.75\n",
        "\n",
        "O que **NÃO** podemos afirmar sobre esses modelos?\n",
        "\n",
        "a) O Modelo A apresentou overfit, pois apesar de obter uma acurácia alta no conjunto de treino, não conseguiu generalizar e obteve baixo desempenho no conjunto de teste. <br>\n",
        "b) O Modelo B apresentou melhor grau de generalização entre os modelos testados. <br>\n",
        "c) O Modelo C provavelmente irá apresentar melhor desempenho quando colocado em produção, visto que seu desempenho no conjunto de teste é melhor. <br>\n",
        "d) O Modelo C, apesar de apresentar o melhor desempenho no conjunto de teste, apresentou uma diferença considerável de desempenho entre os conjuntos de treino e teste, indicando baixo grau de conhecimento. Dessa forma, seu desempenho quando colocado em produção muito provavelmente não será tão bom quanto o do Modelo B.<br>\n"
      ],
      "metadata": {
        "id": "Ttmr-0sYlp8Q"
      }
    },
    {
      "cell_type": "markdown",
      "source": [
        "### Questão 3\n",
        "\n",
        "Em relação as métricas de avaliação utilizadas para avaliação do desempenho de algoritmos de Aprendizado de Máquina, o que não podemos afirmar:<br>\n",
        "a) As métricas mse, mae e R2 são indicadas para problemas de regressão. <br>\n",
        "b) As métricas precisão e revocação são usadas para geração da curva ROC, sendo que no eixo x coloca-se a revocação e no eixo y a precisão. <br>\n",
        "c) A métrica F1-score faz uma ponderação entre precisão e revocação.<br>\n",
        "d) As curvas ROC ajudam na escolha do algoritmo mais adequado, pois, quanto mais próximo do canto superior esquerdo a curva de desempenho estiver melhor é o algoritmo.<br>\n",
        "e) nenhuma das anteriores.\n"
      ],
      "metadata": {
        "id": "bh8WIPLRmIfV"
      }
    },
    {
      "cell_type": "markdown",
      "source": [
        "### Questão 4\n",
        "\n",
        "Escolha a alternativa CORRETA sobre o Naive Bayes:\n",
        "\n",
        "a) Assume que todos os atributos são independentes entre si.\n",
        "\n",
        "b) Não pode ser usado para classificação multiclasse, apenas para problemas de classificação binária.\n",
        "\n",
        "c) Consegue lidar apenas com atributos categóricos, sendo de uso limitado para atributos contínuos.\n",
        "\n",
        "d) É robusto a outliers e valores ausentes, pois não afetam a probabilidade condicional.\n",
        "\n",
        "e) Possui muitos hiperparâmetros que precisam ser calibrados e estimados para seu funcionamento correto."
      ],
      "metadata": {
        "id": "d3c0JsswMxUg"
      }
    },
    {
      "cell_type": "markdown",
      "source": [
        "### Questão 5\n",
        "\n",
        "Escolha a alternativa INCORRETA sobre o Árvores de Decisão:\n",
        "\n",
        "a) Podem lidar com atributos categóricos e numéricos.\n",
        "\n",
        "b) São facilmente interpretáveis e permitem a visualização do processo de tomada de decisão.\n",
        "\n",
        "c) Sempre aprendem modelos resistentes ao overfitting.\n",
        "\n",
        "d) Permitem estimar os atributos mais relevantes da base.\n",
        "\n",
        "e) Podem capturar tanto relações lineares quanto não lineares nos dados"
      ],
      "metadata": {
        "id": "wKmOtNZ8M28_"
      }
    }
  ]
}
{
  "cells": [
    {
      "cell_type": "markdown",
      "metadata": {
        "id": "6N888NiuBvFG"
      },
      "source": [
        "# <font color=\"red\"> MBA em IA e Big Data</font>\n",
        "## <span style=\"color:red\">Linguagens e Ferramentas para Inteligência Artificial e Big Data (Python e SQL)</span>\n",
        "\n",
        "### <span style=\"color:darkred\">Python: referências, operações e funções</span>\n",
        "\n",
        "## Avaliação\n",
        "\n",
        "*Leandro Franco de Souza*<br>\n",
        "*ICMC/USP São Carlos*\n",
        "\n",
        "*(com material do Prof. Moacir Antonelli Ponti)*"
      ]
    },
    {
      "cell_type": "markdown",
      "metadata": {
        "id": "Ki9D7-4cBvFK"
      },
      "source": [
        "<font color='red'> As respostas devem ser fornecidas no Moodle. O notebook é apenas para a implementação dos códigos que fornecerão as respostas</font>"
      ]
    },
    {
      "cell_type": "markdown",
      "metadata": {
        "id": "y-nKXZ9bBvFL"
      },
      "source": [
        "## Questão 1\n",
        "\n",
        "Considere que temos tuplas contendo registros de passageiros em um vôo. As tuplas são organizadas de forma que os elementos estão sempre nessa ordem:\n",
        "* Abreviação do país com 3 letras (ex. 'BRA', 'ARG')\n",
        "* Passaporte\n",
        "* Mês de vencimento do passaporte\n",
        "* Ano de vencimento do passaporte\n",
        "* Valor pago pelo trecho\n",
        "\n",
        "Seja uma lista contendo tuplas do tipo acima.  Calcule o valor médio pago pelo trecho entre todos os passageiros\n",
        "\n",
        "a) 996.4<br>\n",
        "b) 999.99<br>\n",
        "c) 1009.1<br>\n",
        "d) 990.50"
      ]
    },
    {
      "cell_type": "code",
      "execution_count": null,
      "metadata": {
        "colab": {
          "base_uri": "https://localhost:8080/"
        },
        "id": "nUMNgfvfBvFM",
        "outputId": "266f77be-b6c1-42ee-de8f-d5e1492a8b8b"
      },
      "outputs": [],
      "source": [
        "lv = [('BRA', 'DFD-2992', 12, 2031, 999.0),\n",
        "      ('ARG', '1112992', 1, 2032, 899.0),\n",
        "      ('EUA', 'AB3DA000', 11, 2031, 1023.0),\n",
        "      ('BRA', 'GCG-1112', 9, 2031, 900.0),\n",
        "      ('ESP', 'DFD-2992', 11, 2031, 899.0),\n",
        "      ('URU', 'AEC423', 3, 2033, 699.0),\n",
        "      ('PAR', 'DFD-2992', 2, 2035, 1099.0),\n",
        "      ('ARL', 'X123111Z', 10, 2031, 954.0),\n",
        "      ('URU', 'BAC203', 2, 2035, 1011.0),\n",
        "      ('ARG', '3112323', 10, 2031, 1250.0),\n",
        "      ('URU', 'ABC123', 12, 2034, 1001.5),\n",
        "      ('BRA', 'AAB-2992', 8, 2031, 1050.9),\n",
        "      ('BRA', 'EFE-2992', 8, 2032, 1170.1),\n",
        "      ('VEN', 'GAC292', 4, 2033, 1000.6),\n",
        "      ('PER', '2992DDE', 9, 2031, 989.9)]\n",
        "\n",
        "lv"
      ]
    },
    {
      "cell_type": "markdown",
      "metadata": {
        "id": "7b3nZf5nBvFR"
      },
      "source": [
        "## Questão 2\n",
        "\n",
        "Considere ainda a mesma lista de tuplas anterior. Crie uma nova lista contendo strings formada pelo mes e ano de vencimento no formato: `mm/aaaa`. Exemplo: se temos mes = 9 e ano = 2022 a string resultante será `'9/2022'`\n",
        "\n",
        "A seguir, conte quantas dessas strings possuem tamanho maior do que 6.\n",
        "\n",
        "a) 10<br>\n",
        "b) 4<br>\n",
        "c) 6<br>\n",
        "d) 3"
      ]
    },
    {
      "cell_type": "code",
      "execution_count": null,
      "metadata": {
        "id": "hz44orUVBvFS"
      },
      "outputs": [],
      "source": [
        "lv = [('BRA', 'DFD-2992', 12, 2031, 999.0),\n",
        "      ('ARG', '1112992', 1, 2032, 899.0),\n",
        "      ('EUA', 'AB3DA000', 11, 2031, 1023.0),\n",
        "      ('BRA', 'GCG-1112', 9, 2031, 900.0),\n",
        "      ('ESP', 'DFD-2992', 11, 2031, 899.0),\n",
        "      ('URU', 'AEC423', 3, 2033, 699.0),\n",
        "      ('PAR', 'DFD-2992', 2, 2035, 1099.0),\n",
        "      ('ARL', 'X123111Z', 10, 2031, 954.0),\n",
        "      ('URU', 'BAC203', 2, 2035, 1011.0),\n",
        "      ('ARG', '3112323', 10, 2031, 1250.0),\n",
        "      ('URU', 'ABC123', 12, 2034, 1001.5),\n",
        "      ('BRA', 'AAB-2992', 8, 2031, 1050.9),\n",
        "      ('BRA', 'EFE-2992', 8, 2032, 1170.1),\n",
        "      ('VEN', 'GAC292', 4, 2033, 1000.6),\n",
        "      ('PER', '2992DDE', 9, 2031, 989.9)]"
      ]
    },
    {
      "cell_type": "markdown",
      "metadata": {
        "id": "e1sln68OBvFU"
      },
      "source": [
        "## Questão 3\n",
        "\n",
        "Carregue o arquivo <font style=\"font-family: monaco\">WorldCupMatches.csv</font>, disponível para download. Baixe o arquivo no seu diretório de trabalho para responder as questões.\n",
        "\n",
        "O arquivo <font style=\"font-family: monaco\">WorldCupMatches.csv</font> contém informações sobre todas as partidas de copas do mundo entre 1930 e 2014, ou seja, cada linha no arquivo corresponde a uma partida de futebol em copa do mundo.\n",
        "\n",
        "Algumas das colunas que serão importantes para resolver as questões são:\n",
        "- __Year__: indica o ano da copa\n",
        "- __Stage__: em qual fase da copa a partida aconteceu\n",
        "- __HomeTeamName__: nome do time anfitrião da partida\n",
        "- __AwayTeamName__: nome do time adversário na partida\n",
        "- __Attendance__: número de espectadores da partida\n",
        "- __Stadium__: estádio onde a partida foi realizada\n",
        "\n",
        "Crie uma função que tenha como entrada o país e o dataframe partidas (ver abaixo). Nesta função, calcule quantos jogos o time 'Scotland' realizou  e quais foram os três primeiros adversários dele?\n",
        "\n",
        "a) 22 jogos. Austria, Uruguay e Paraguay<br>\n",
        "b) 23 jogos. Uruguay, Yugoslavia e Paraguay<br>\n",
        "c) 23 jogos. Austria, Uruguay e Yugoslavia<br>\n",
        "d) 24 jogos. Austria, Uruguay e Yugoslavia"
      ]
    },
    {
      "cell_type": "code",
      "execution_count": null,
      "metadata": {
        "colab": {
          "base_uri": "https://localhost:8080/",
          "height": 346
        },
        "id": "ueCJX6rDBvFU",
        "outputId": "757682fe-2c2b-427f-b1a5-07091b3b8d23"
      },
      "outputs": [],
      "source": [
        "import pandas as pd\n",
        "partidas = pd.read_csv('WorldCupMatches.csv')\n",
        "print(partidas.shape)"
      ]
    },
    {
      "cell_type": "markdown",
      "metadata": {
        "id": "dxLFm9iItiFv"
      },
      "source": [
        "## Questão 4\n",
        "\n",
        "Crie uma função lambda que processe uma tupla contendo um produto definido na forma:\n",
        "(nome_produto (str), preco (float), ano validade (int), mes validade (int))\n",
        "E que retorne uma nova tupla contendo o nome do produto concatenado com ` em promoção`, e o preço com desconto de 50%.\n",
        "\n",
        "Exemplo: `('macarrao', 10.0, 2025, 7)`\n",
        "\n",
        "Saída da função: `('macarrao em promocao', 5.0, 2025, 7)`\n",
        "\n",
        "Crie uma função que receba uma lista contendo as tuplas de produtos, um ano e mês de vencimento, e que utilize essa função lambda numa comprehension para retornar uma nova lista contendo apenas produtos próximos ao vencimento, para os quais será feita uma promoção com desconto de 50%. Serão considerados próximos ao vencimento produtos até o ano e mês passados como argumento da função.\n",
        "\n",
        "Exemplo de uso da funcao: gera_lista_promocao(prods, 2025, 8).\n",
        "\n",
        "Considerando que produtos com vencimento até Agosto de 2025 estão próximos ao vencimento, use sua função para retornar uma lista de produtos em promoção. Qual é o preço mínimo e máximo dos produtos dessa lista?\n",
        "\n",
        "a) Menor: 1,00; Maior: 4,495<br>\n",
        "b) Menor: 1,25; Maior: 5,255<br>\n",
        "c) Menor: 1,25; Maior: 4,495<br>\n",
        "d) Menor: 1,00; Maior: 5,255"
      ]
    },
    {
      "cell_type": "code",
      "execution_count": null,
      "metadata": {
        "id": "0vMS6cR6tiFw"
      },
      "outputs": [],
      "source": [
        "prods = [('macarrao', 5.99, 2025, 7),\n",
        "      ('palmito', 12.50, 2027, 8),\n",
        "      ('arroz', 21.50, 2025, 9),      \n",
        "      ('feijao', 8.50, 2027, 10),\n",
        "      ('grao de bico', 8.50, 2027, 8),\n",
        "      ('feijao preto', 8.90, 2025, 7),\n",
        "      ('molho', 2.50, 2025, 6),\n",
        "      ('cafe', 7.30, 2025, 6),\n",
        "      ('manteiga', 8.99, 2025, 7),\n",
        "      ('chocolate', 2.00, 2025, 9),\n",
        "      ('azeite', 10.50, 2027, 1),\n",
        "      ('farinha', 3.50, 2025, 7),\n",
        "      ('fuba', 4.50, 2027, 8)]"
      ]
    },
    {
      "cell_type": "markdown",
      "metadata": {
        "id": "fTWsNZHmtiFy"
      },
      "source": [
        "## Questão 5\n",
        "\n",
        "Carregue o arquivo `sales2.csv`. Sem realizar nenhum pré processamento\n",
        "\n",
        "1. Crie uma visão do dataframe contendo as colunas Item Type e Total Profit apenas das linhas contendo Order Priority = H ou Order Priority = M, e com Units Sold maior do que 1000.\n",
        "2. Nessa visão, calcule a média e o máximo do Total Profit agrupado pelo Item Type.\n",
        "\n",
        "Quais são os valores de média e máximo para os itens de tipo: Beverages e Fruits, sem considerar casas decimais?\n",
        "\n",
        "a) Beverages: Média=111837, Máximo=147031; Fruits: Média=9485, Máximo 18405<br>\n",
        "b) Beverages: Média=147031, Máximo=147031; Fruits: Média=12228, Máximo 18405<br>\n",
        "c) Beverages: Média=111837, Máximo=111837; Fruits: Média=9485, Máximo 12228<br>\n",
        "d) Beverages: Média=147031, Máximo=147031; Fruits: Média=9485, Máximo 18405<br>\n"
      ]
    },
    {
      "cell_type": "code",
      "execution_count": null,
      "metadata": {
        "id": "fy0woDBKtiFz",
        "outputId": "1920523d-157a-4925-cb91-0d30d54aff5e"
      },
      "outputs": [],
      "source": [
        "import pandas as pd\n",
        "import numpy as np\n",
        "df = pd.read_csv('sales2.csv')\n",
        "df"
      ]
    }
  ],
  "metadata": {
    "colab": {
      "collapsed_sections": [],
      "name": "Python_atividades_quinzenais_solucoes.ipynb",
      "provenance": []
    },
    "kernelspec": {
      "display_name": "Python 3",
      "language": "python",
      "name": "python3"
    },
    "language_info": {
      "codemirror_mode": {
        "name": "ipython",
        "version": 3
      },
      "file_extension": ".py",
      "mimetype": "text/x-python",
      "name": "python",
      "nbconvert_exporter": "python",
      "pygments_lexer": "ipython3",
      "version": "3.11.5"
    },
    "toc": {
      "base_numbering": 1,
      "nav_menu": {},
      "number_sections": true,
      "sideBar": true,
      "skip_h1_title": false,
      "title_cell": "Table of Contents",
      "title_sidebar": "Contents",
      "toc_cell": false,
      "toc_position": {},
      "toc_section_display": true,
      "toc_window_display": false
    }
  },
  "nbformat": 4,
  "nbformat_minor": 0
}

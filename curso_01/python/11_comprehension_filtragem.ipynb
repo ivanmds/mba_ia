{
 "cells": [
  {
   "attachments": {},
   "cell_type": "markdown",
   "metadata": {},
   "source": [
    "# <font color=\"red\"> MBA em IA e Big Data</font>\n",
    "## <span style=\"color:red\">Linguagens e Ferramentas para Inteligência Artificial e Big Data (Python e SQL)</span>\n",
    "\n",
    "### <span style=\"color:darkred\">Python - Aula 11</span>\n",
    "\n",
    "*Leandro Franco de Souza*<br>\n",
    "*ICMC/USP São Carlos*\n",
    "\n",
    "*(com material do Prof. Moacir Antonelli Ponti)*"
   ]
  },
  {
   "cell_type": "markdown",
   "metadata": {},
   "source": [
    "# <font color=\"red\"> Conteúdo:</font>\n",
    "\n",
    "### <span style=\"color:red\">- Comprehensions com filtragem</span>\n",
    "### <span style=\"color:red\">- Usando *if-else*</span>"
   ]
  },
  {
   "attachments": {},
   "cell_type": "markdown",
   "metadata": {},
   "source": [
    "---\n",
    "## Compreehension com filtragem\n",
    "\n",
    "Combinado com `if` permite filtrar a sequência gerada\n",
    "```python\n",
    "variavel = [expressao for variavel_local in objeto if condicao]\n",
    "```\n",
    "\n",
    "O código acima é equivalente a:\n",
    "```\n",
    "variavel=[]\n",
    "for variavel_local in objeto:\n",
    "    if condicao:\n",
    "        variavel.append(expressao)\n",
    "```"
   ]
  },
  {
   "attachments": {},
   "cell_type": "markdown",
   "metadata": {},
   "source": [
    "Gerar o quadrado dos números entre -20 e 20, e montar uma lista apenas com os números ímpares resultantes"
   ]
  },
  {
   "cell_type": "code",
   "execution_count": null,
   "metadata": {},
   "outputs": [],
   "source": [
    "l = [x**2 for x in range(-20,21) if (x**2)%2 != 0]\n",
    "print(l)"
   ]
  },
  {
   "attachments": {},
   "cell_type": "markdown",
   "metadata": {},
   "source": [
    "Notar que ali a condição se refere à variável local `x`"
   ]
  },
  {
   "attachments": {},
   "cell_type": "markdown",
   "metadata": {},
   "source": [
    "#### Iterando por coleções\n",
    "\n",
    "Vamos criar uma coleção de disciplinas com nome e crédito"
   ]
  },
  {
   "cell_type": "code",
   "execution_count": null,
   "metadata": {},
   "outputs": [],
   "source": [
    "disciplinas = [('Programação', 4), ('Cálculo',4), ('Isostática',2), ('Semicondutores', 2),\n",
    "               ('Manufatura Discreta',2), ('Análise real', 4), ('Seminários', 1), \n",
    "               ('Processamento de Imagens', 3)]"
   ]
  },
  {
   "cell_type": "code",
   "execution_count": null,
   "metadata": {},
   "outputs": [],
   "source": [
    "mincred = 3\n",
    "\n",
    "disciplinas_mincred = [(nome,cred) for (nome,cred) in disciplinas if cred >= mincred]\n",
    "print(disciplinas_mincred)"
   ]
  },
  {
   "cell_type": "code",
   "execution_count": null,
   "metadata": {},
   "outputs": [],
   "source": [
    "disciplinas_mincred_for = list()\n",
    "for (nome,cred) in disciplinas:\n",
    "    if (cred >= mincred):\n",
    "        disciplinas_mincred_for.append((nome,cred))\n",
    "print(disciplinas_mincred_for)        "
   ]
  },
  {
   "cell_type": "code",
   "execution_count": null,
   "metadata": {},
   "outputs": [],
   "source": [
    "disciplinas_mincred == disciplinas_mincred_for"
   ]
  },
  {
   "attachments": {},
   "cell_type": "markdown",
   "metadata": {},
   "source": [
    "### Usando `if-else`\n",
    "\n",
    "Podemos usar `else` mas nesse caso a estrutura deve vir **antes** do `for`:\n",
    "\n",
    "```python\n",
    "variavel = [<expressao> if <condicao> else <expressao_se_falso> for <variavel_local> in <objeto>]\n",
    "```"
   ]
  },
  {
   "attachments": {},
   "cell_type": "markdown",
   "metadata": {},
   "source": [
    "> É útil quando temos um valor para substituir no caso em que a condição é falsa"
   ]
  },
  {
   "cell_type": "code",
   "execution_count": null,
   "metadata": {},
   "outputs": [],
   "source": [
    "# computando o quadrado dos números entre -20 e 20. Se o resultado for par, substituir por -1\n",
    "l = [x**2 if (x**2)%2!=0 else -1 for x in range(-20,21)]\n",
    "print(l)"
   ]
  },
  {
   "attachments": {},
   "cell_type": "markdown",
   "metadata": {},
   "source": [
    "---\n",
    "\n",
    "**<font color=\"blue\">Exercício 1.8\n",
    "</font>**\n",
    "A partir de um vetor com números inteiros aleatórios, calcular seu `log` e criar uma lista com o resultado.\n",
    "* se o número for 0 substituir o valor por `nan` (not a number)."
   ]
  },
  {
   "cell_type": "markdown",
   "metadata": {},
   "source": []
  },
  {
   "cell_type": "code",
   "execution_count": null,
   "metadata": {},
   "outputs": [],
   "source": [
    "import random as rd\n",
    "\n",
    "n = 25\n",
    "rand_num = [rd.randint(0,10) for _ in range(n)]\n",
    "print(rand_num)"
   ]
  },
  {
   "cell_type": "markdown",
   "metadata": {},
   "source": [
    "# <font color=\"red\">Resumo da aula</font>\n",
    "\n",
    "### <span style=\"color:red\">- Comprehensions com filtragem</span>\n",
    "### <span style=\"color:red\">- Usando *if* e *else*</span>"
   ]
  }
 ],
 "metadata": {
  "kernelspec": {
   "display_name": "Python 3",
   "language": "python",
   "name": "python3"
  },
  "language_info": {
   "codemirror_mode": {
    "name": "ipython",
    "version": 3
   },
   "file_extension": ".py",
   "mimetype": "text/x-python",
   "name": "python",
   "nbconvert_exporter": "python",
   "pygments_lexer": "ipython3",
   "version": "3.11.5"
  },
  "toc": {
   "base_numbering": 1,
   "nav_menu": {},
   "number_sections": true,
   "sideBar": true,
   "skip_h1_title": false,
   "title_cell": "Table of Contents",
   "title_sidebar": "Contents",
   "toc_cell": false,
   "toc_position": {},
   "toc_section_display": true,
   "toc_window_display": false
  }
 },
 "nbformat": 4,
 "nbformat_minor": 2
}

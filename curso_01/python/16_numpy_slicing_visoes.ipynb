{
 "cells": [
  {
   "attachments": {},
   "cell_type": "markdown",
   "metadata": {
    "colab_type": "text",
    "id": "9VJ-bL09Mv7M"
   },
   "source": [
    "# <font color=\"red\"> MBA em IA e Big Data</font>\n",
    "## <span style=\"color:red\">Linguagens e Ferramentas para Inteligência Artificial e Big Data (Python e SQL)</span>\n",
    "\n",
    "### <span style=\"color:darkred\">Python - Aula 16</span>\n",
    "\n",
    "*Leandro Franco de Souza*<br>\n",
    "*ICMC/USP São Carlos*\n",
    "\n",
    "*(com material do Prof. Moacir Antonelli Ponti)*"
   ]
  },
  {
   "attachments": {},
   "cell_type": "markdown",
   "metadata": {
    "colab_type": "text",
    "id": "t3RlxFYAMv7R"
   },
   "source": [
    "# <font color=\"red\"> Conteúdo:</font>\n",
    "\n",
    "### <span style=\"color:red\">- Fatiamento (*Slicing*) em arrays</span>\n",
    "### <span style=\"color:red\">- Métodos: *ravel, flatten* e *reshape*</span>\n",
    "### <span style=\"color:red\">- Transposta</span>\n",
    "### <span style=\"color:red\">- Filtragem com operador lógico</span>\n",
    "### <span style=\"color:red\">- Visões (*view*)</span>"
   ]
  },
  {
   "attachments": {},
   "cell_type": "markdown",
   "metadata": {
    "colab_type": "text",
    "id": "VyaFfVKsMv8o"
   },
   "source": [
    "### *Slicing* em arrays\n",
    "\n",
    "- como em listas, mas em múltiplas dimensões\n",
    "- omitir um índice corresponde a recuperar toda a dimensão omitida\n",
    "- um slice é uma \"visão\" (__VIEW__) do array original, como uma referência, isto é, o dado *não é copiado*"
   ]
  },
  {
   "cell_type": "code",
   "execution_count": null,
   "metadata": {
    "colab": {
     "base_uri": "https://localhost:8080/",
     "height": 367
    },
    "colab_type": "code",
    "executionInfo": {
     "elapsed": 569,
     "status": "ok",
     "timestamp": 1595607963347,
     "user": {
      "displayName": "Luis Gustavo Nonato",
      "photoUrl": "",
      "userId": "16109025348268293164"
     },
     "user_tz": 180
    },
    "id": "-QLQN4B7Mv8s",
    "outputId": "21a15a1d-0810-4012-c3c6-1023a26ba6ac"
   },
   "outputs": [],
   "source": [
    "import numpy as np\n",
    "a2d = np.array(  [[1,3,5,7,9],   # criando um array bidimensional a partir de uma\n",
    "                  [2,4,6,8,12],  # lista de listas\n",
    "                  [0,1,2,3,4]])\n",
    "print(a2d)"
   ]
  },
  {
   "cell_type": "code",
   "execution_count": null,
   "metadata": {},
   "outputs": [],
   "source": [
    "# slicing de linhas\n",
    "print(a2d[1])\n",
    "print(a2d[1,])\n",
    "\n",
    "print(\"\\nrecuperando 2 linhas:\")\n",
    "print(a2d[1:3,:])"
   ]
  },
  {
   "cell_type": "code",
   "execution_count": null,
   "metadata": {},
   "outputs": [],
   "source": [
    "# slicing de colunas\n",
    "print(a2d[:,2]) # retorna a coluna como um array 1d\n",
    "print()\n",
    "print(a2d[:,1:4])"
   ]
  },
  {
   "cell_type": "code",
   "execution_count": null,
   "metadata": {},
   "outputs": [],
   "source": [
    "# slicing de blocos\n",
    "print(a2d[1:,1:5])"
   ]
  },
  {
   "cell_type": "code",
   "execution_count": null,
   "metadata": {},
   "outputs": [],
   "source": [
    "# slicing passando uma lista personalizada (em ordem)\n",
    "print(a2d[ [0,2] , :]) \n",
    "\n",
    "# abaixo retorna-se as coluans 3, 1 e 2, nessa ordem\n",
    "print(a2d[ : , [3,1,2]]) "
   ]
  },
  {
   "attachments": {},
   "cell_type": "markdown",
   "metadata": {
    "colab_type": "text",
    "id": "iQ6dzl6aMv83"
   },
   "source": [
    "### Métodos \n",
    "\n",
    "* `ravel`:  concatena as linhas da matriz em um array 1d, mantendo a referência\n",
    "* `flatten`: concatena as linhas da matriz em um array 1d, retornando uma cópia\n",
    "* `reshape`: refaz as dimensões, mantendo o número de elementos\n",
    "\n",
    "OBS: o atributo `flat` usado anteriormente é um \"iterador\" não gerando um array"
   ]
  },
  {
   "cell_type": "code",
   "execution_count": null,
   "metadata": {},
   "outputs": [],
   "source": [
    "# gera array com 12 elementos, e redimensiona para uma matriz 3x4\n",
    "a = np.arange(20).reshape(4,5)\n",
    "print(a)"
   ]
  },
  {
   "cell_type": "code",
   "execution_count": null,
   "metadata": {},
   "outputs": [],
   "source": [
    "# atribuímos a b, mas mantendo a referencia para `a`\n",
    "b = a.ravel()\n",
    "print(b)\n"
   ]
  },
  {
   "cell_type": "code",
   "execution_count": null,
   "metadata": {},
   "outputs": [],
   "source": [
    "b[4] = 1000\n",
    "print('\\n',b)\n",
    "print(a)"
   ]
  },
  {
   "cell_type": "code",
   "execution_count": null,
   "metadata": {},
   "outputs": [],
   "source": [
    "# atribui a c uma cópia\n",
    "c = a.flatten()\n",
    "\n",
    "c[0] = 999\n",
    "print(c)\n",
    "print('\\n',a)"
   ]
  },
  {
   "attachments": {},
   "cell_type": "markdown",
   "metadata": {
    "colab_type": "text",
    "id": "e8d7O8aZMv9F"
   },
   "source": [
    "### Transposta com atributo `T` "
   ]
  },
  {
   "cell_type": "code",
   "execution_count": null,
   "metadata": {
    "colab": {
     "base_uri": "https://localhost:8080/",
     "height": 227
    },
    "colab_type": "code",
    "executionInfo": {
     "elapsed": 590,
     "status": "ok",
     "timestamp": 1595608755188,
     "user": {
      "displayName": "Luis Gustavo Nonato",
      "photoUrl": "",
      "userId": "16109025348268293164"
     },
     "user_tz": 180
    },
    "id": "ahaKozUVMv9F",
    "outputId": "cb1be77e-2bb9-4002-b27c-c2736d35c4c8"
   },
   "outputs": [],
   "source": [
    "a = np.arange(15).reshape(3,5)\n",
    "print(a)\n",
    "print(a.shape)\n",
    "\n",
    "print('\\nTransposta')\n",
    "print(a.T)\n",
    "print(a.T.shape)"
   ]
  },
  {
   "attachments": {},
   "cell_type": "markdown",
   "metadata": {
    "colab_type": "text",
    "id": "AM3gkSb1Mv9L"
   },
   "source": [
    "### Filtragem com operador lógico\n",
    "\n",
    "Um array de valores booleanos (máscara booleana) pode ser usado para selecionar elementos em um array.\n",
    "\n",
    "Úteis para atribuições de maneira eficiente e elegante.\n"
   ]
  },
  {
   "cell_type": "code",
   "execution_count": null,
   "metadata": {
    "colab": {
     "base_uri": "https://localhost:8080/",
     "height": 315
    },
    "colab_type": "code",
    "executionInfo": {
     "elapsed": 574,
     "status": "ok",
     "timestamp": 1595608955755,
     "user": {
      "displayName": "Luis Gustavo Nonato",
      "photoUrl": "",
      "userId": "16109025348268293164"
     },
     "user_tz": 180
    },
    "id": "hWYbbzNbMv9N",
    "outputId": "fc8bdc43-b249-45ce-cafc-4a306f794b84"
   },
   "outputs": [],
   "source": [
    "# gerando numeros entre 0 e 17 e reformatando em uma matriz 3x6\n",
    "x = np.arange(18).reshape(3,6)\n",
    "print(x)"
   ]
  },
  {
   "cell_type": "code",
   "execution_count": null,
   "metadata": {},
   "outputs": [],
   "source": [
    "# calculando uma máscara booleana onde o valor True \n",
    "# corresponde aos elementos maiores que 7\n",
    "mask = (x > 7)\n",
    "print('\\nMascara booleana da matriz para valores maiores que 7')\n",
    "print(mask)"
   ]
  },
  {
   "cell_type": "code",
   "execution_count": null,
   "metadata": {},
   "outputs": [],
   "source": [
    "print('\\nRecuperando apenas os elementos maiores que 7')\n",
    "print(x[mask])\n",
    "\n",
    "print('\\nModificando apenas os elementos maiores que 7')\n",
    "x[mask] = -1\n",
    "print(x)\n",
    "\n",
    "print('Filtrando pela negacao da mascara')\n",
    "# filtrando e atribuindo a novo array elementos menores ou iguais a 7\n",
    "y = x[~mask]\n",
    "print(y)"
   ]
  },
  {
   "attachments": {},
   "cell_type": "markdown",
   "metadata": {
    "colab_type": "text",
    "id": "UCBuVSK_Mv9S"
   },
   "source": [
    "### Visões  (__view__)\n",
    "\n",
    "Slicing cria uma __view__ de um array, não uma cópia\n",
    "- Uma __view__ é criada ao fatiar (slicing) o array\n",
    "- Uma __view__ é uma referência a uma parte de um array\n",
    "- Alterar elementos da __view__ afeta o array original\n",
    "- É possível copiar usando `numpy.copy()`"
   ]
  },
  {
   "cell_type": "code",
   "execution_count": null,
   "metadata": {
    "colab": {
     "base_uri": "https://localhost:8080/",
     "height": 385
    },
    "colab_type": "code",
    "executionInfo": {
     "elapsed": 618,
     "status": "ok",
     "timestamp": 1595609198137,
     "user": {
      "displayName": "Luis Gustavo Nonato",
      "photoUrl": "",
      "userId": "16109025348268293164"
     },
     "user_tz": 180
    },
    "id": "QCR_dZyeMv9T",
    "outputId": "88c2dddc-c491-4d38-e614-492ded978ea4",
    "scrolled": true
   },
   "outputs": [],
   "source": [
    "# matriz com 3x6 números aleatórios\n",
    "# aqui usamos o método randint do numpy\n",
    "x = np.random.randint(0,10,18).reshape(3,6)\n",
    "print(x)\n",
    "\n",
    "# criando uma view\n",
    "y = x[1:,:3]\n",
    "\n",
    "# criando uma cópia\n",
    "z = np.copy(x[1:,:3])"
   ]
  },
  {
   "cell_type": "code",
   "execution_count": null,
   "metadata": {},
   "outputs": [],
   "source": [
    "print(y)\n",
    "print(z)"
   ]
  },
  {
   "cell_type": "code",
   "execution_count": null,
   "metadata": {},
   "outputs": [],
   "source": [
    "# modificando um elemento da view\n",
    "y[1,1] = 99\n",
    "# modificando um elemento da cópia\n",
    "z[0,1] = 88\n",
    "\n",
    "print('\\nElementos [1,1] modificados para 99:')\n",
    "print('View:\\n',y)\n",
    "print('\\nElementos [0,1] modificados para 88:')\n",
    "print('Cópia:\\n',z)\n",
    "\n",
    "print('\\nMatriz original é afetada pela view:')\n",
    "print(x)"
   ]
  },
  {
   "attachments": {},
   "cell_type": "markdown",
   "metadata": {},
   "source": [
    "---\n",
    "\n",
    "#### <font color=\"blue\">Exercício 2.5</font>\n",
    "\n",
    "Use o método `randint` do `numpy` para criar um array bidimensional com 6x10 elementos inteiros entre 1 e 5. \n",
    "\n",
    "A seguir, considerando apenas a submatriz formada pelas linhas: 2 até 6 e as colunas 2, 5 e 8, copie para uma matriz unidimensional os valores maiores ou iguais a 4.\n",
    "\n",
    "---"
   ]
  },
  {
   "cell_type": "markdown",
   "metadata": {},
   "source": [
    "# <font color=\"red\">Resumo da aula</font>\n",
    "\n",
    "### <span style=\"color:red\">- Fatiamento (*Slicing*) em arrays</span>\n",
    "### <span style=\"color:red\">- Métodos: *ravel, flatten* e *reshape*</span>\n",
    "### <span style=\"color:red\">- Transposta</span>\n",
    "### <span style=\"color:red\">- Filtragem com operador lógico</span>\n",
    "### <span style=\"color:red\">- Visões (*view*)</span>"
   ]
  }
 ],
 "metadata": {
  "colab": {
   "collapsed_sections": [],
   "name": "Numpy I .ipynb",
   "provenance": []
  },
  "kernelspec": {
   "display_name": "Python 3",
   "language": "python",
   "name": "python3"
  },
  "language_info": {
   "codemirror_mode": {
    "name": "ipython",
    "version": 3
   },
   "file_extension": ".py",
   "mimetype": "text/x-python",
   "name": "python",
   "nbconvert_exporter": "python",
   "pygments_lexer": "ipython3",
   "version": "3.11.5"
  }
 },
 "nbformat": 4,
 "nbformat_minor": 1
}

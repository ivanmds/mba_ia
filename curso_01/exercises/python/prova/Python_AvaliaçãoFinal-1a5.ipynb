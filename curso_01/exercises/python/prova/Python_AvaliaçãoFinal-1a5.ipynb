{
  "cells": [
    {
      "cell_type": "markdown",
      "metadata": {
        "id": "6N888NiuBvFG"
      },
      "source": [
        "# <font color=\"red\"> MBA em IA e Big Data</font>\n",
        "## <span style=\"color:red\">Linguagens e Ferramentas para Inteligência Artificial e Big Data (Python e SQL)</span>\n",
        "\n",
        "### <span style=\"color:darkred\">Python: referências, operações e funções</span>\n",
        "\n",
        "## Avaliação\n",
        "\n",
        "*Leandro Franco de Souza*<br>\n",
        "*ICMC/USP São Carlos*\n",
        "\n",
        "*(com material do Prof. Moacir Antonelli Ponti)*"
      ]
    },
    {
      "cell_type": "markdown",
      "metadata": {
        "id": "Ki9D7-4cBvFK"
      },
      "source": [
        "<font color='red'> As respostas devem ser fornecidas no Moodle. O notebook é apenas para a implementação dos códigos que fornecerão as respostas</font>"
      ]
    },
    {
      "cell_type": "markdown",
      "metadata": {
        "id": "y-nKXZ9bBvFL"
      },
      "source": [
        "## Questão 1\n",
        "\n",
        "Considere que temos tuplas contendo registros de passageiros em um vôo. As tuplas são organizadas de forma que os elementos estão sempre nessa ordem:\n",
        "* Abreviação do país com 3 letras (ex. 'BRA', 'ARG')\n",
        "* Código do Passaporte\n",
        "* Mês de vencimento do passaporte\n",
        "* Ano de vencimento do passaporte\n",
        "* Valor pago pelo trecho\n",
        "\n",
        "Seja uma lista contendo tuplas do tipo acima.  Calcule o valor médio pago pelo trecho entre todos os passageiros com vencimento do passaporte em 2031, usando o round para mostrar este valor com 2 casas decimais.\n",
        "\n",
        "a) 1008.22<br>\n",
        "b) 1005.32<br>\n",
        "c) 999.99<br>\n",
        "d) 1034.54"
      ]
    },
    {
      "cell_type": "code",
      "execution_count": null,
      "metadata": {
        "id": "nUMNgfvfBvFM"
      },
      "outputs": [],
      "source": [
        "lv = [('BRA', 'DFD-2992', 12, 2031, 999.0),\n",
        "      ('ARG', '1112992', 1, 2032, 899.0),\n",
        "      ('EUA', 'AB3DA000', 11, 2031, 1023.0),\n",
        "      ('BRA', 'GCG-1112', 9, 2031, 900.0),\n",
        "      ('ESP', 'DFD-2992', 11, 2031, 899.0),\n",
        "      ('URU', 'AEC423', 3, 2033, 699.0),\n",
        "      ('PAR', 'DFD-2992', 2, 2035, 1099.0),\n",
        "      ('ARL', 'X123111Z', 10, 2031, 954.0),\n",
        "      ('URU', 'BAC203', 2, 2035, 1011.0),\n",
        "      ('ARG', '3112323', 10, 2031, 1250.0),\n",
        "      ('URU', 'ABC123', 12, 2034, 1001.5),\n",
        "      ('BRA', 'AAB-2992', 8, 2031, 1050.9),\n",
        "      ('BRA', 'EFE-2992', 8, 2032, 1170.1),\n",
        "      ('VEN', 'GAC292', 4, 2033, 1000.6),\n",
        "      ('PER', '2992DDE', 9, 2031, 989.9)]"
      ]
    },
    {
      "cell_type": "markdown",
      "metadata": {
        "id": "7b3nZf5nBvFR"
      },
      "source": [
        "## Questão 2\n",
        "\n",
        "Considerando vogais = \"aeiouAEIOU\", crie uma função que tenham como entrada um conjunto de caracteres qualquer e a saída seja o número de vogais deste conjunto de caracteres.\n",
        "\n",
        "A seguir, usando esta função, para contar quantas vogais tem no conjunto formado por todos os códigos dos passaportes ('DFD-2992', '1112992', e assim por diante).\n",
        "\n",
        "O valor total é:\n",
        "\n",
        "a) 10<br>\n",
        "b) 11<br>\n",
        "c) 12<br>\n",
        "d) 13"
      ]
    },
    {
      "cell_type": "code",
      "execution_count": null,
      "metadata": {
        "id": "hz44orUVBvFS"
      },
      "outputs": [],
      "source": [
        "lv = [('BRA', 'DFD-2992', 12, 2031, 999.0),\n",
        "      ('ARG', '1112992', 1, 2032, 899.0),\n",
        "      ('EUA', 'AB3DA000', 11, 2031, 1023.0),\n",
        "      ('BRA', 'GCG-1112', 9, 2031, 900.0),\n",
        "      ('ESP', 'DFD-2992', 11, 2031, 899.0),\n",
        "      ('URU', 'AEC423', 3, 2033, 699.0),\n",
        "      ('PAR', 'DFD-2992', 2, 2035, 1099.0),\n",
        "      ('ARL', 'X123111Z', 10, 2031, 954.0),\n",
        "      ('URU', 'BAC203', 2, 2035, 1011.0),\n",
        "      ('ARG', '3112323', 10, 2031, 1250.0),\n",
        "      ('URU', 'ABC123', 12, 2034, 1001.5),\n",
        "      ('BRA', 'AAB-2992', 8, 2031, 1050.9),\n",
        "      ('BRA', 'EFE-2992', 8, 2032, 1170.1),\n",
        "      ('VEN', 'GAC292', 4, 2033, 1000.6),\n",
        "      ('PER', '2992DDE', 9, 2031, 989.9)]"
      ]
    },
    {
      "cell_type": "markdown",
      "metadata": {
        "id": "e1sln68OBvFU"
      },
      "source": [
        "## Questão 3\n",
        "\n",
        "Carregue o arquivo <font style=\"font-family: monaco\">WorldCupMatches.csv</font>, disponível para download. Baixe o arquivo no seu diretório de trabalho para responder as questões.\n",
        "\n",
        "O arquivo <font style=\"font-family: monaco\">WorldCupMatches.csv</font> contém informações sobre todas as partidas de copas do mundo entre 1930 e 2014, ou seja, cada linha no arquivo corresponde a uma partida de futebol em copa do mundo.\n",
        "\n",
        "Algumas das colunas que serão importantes para resolver as questões são:\n",
        "- __Year__: indica o ano da copa\n",
        "- __Stage__: em qual fase da copa a partida aconteceu\n",
        "- __HomeTeamName__: nome do time anfitrião da partida\n",
        "- __AwayTeamName__: nome do time adversário na partida\n",
        "- __Attendance__: número de espectadores da partida\n",
        "- __Stadium__: estádio onde a partida foi realizada\n",
        "\n",
        "Crie uma função que tenha como entrada dois paises e o dataframe partidas:\n",
        "\n",
        "<font style=\"font-family: monaco\">def jogospaises(pais1,pais2,partidas):</font>\n",
        "\n",
        "e que tenha como saída uma tupla, com o número total de partidas entre os dois time e uma lista contendo os anos em que as partidas foram realizadas.\n",
        "\n",
        "Dica: use o método  <font color='red'>.iterrows()</font> do Pandas.\n",
        "\n",
        "Quantos jogos o 'Brazil' e 'England' já realizaram e em quais anos?\n",
        "\n",
        "a) (2, [2002, 2014]<br>\n",
        "b) (4, [1974, 1978, 1982, 1990])<br>\n",
        "c) (4, [1958, 1962, 1970, 2002])<br>\n",
        "d) (5, [1938, 1970, 1978, 1982, 1994])"
      ]
    },
    {
      "cell_type": "code",
      "execution_count": null,
      "metadata": {
        "id": "ueCJX6rDBvFU"
      },
      "outputs": [],
      "source": [
        "import pandas as pd\n",
        "partidas = pd.read_csv('WorldCupMatches.csv')"
      ]
    },
    {
      "cell_type": "markdown",
      "metadata": {
        "id": "dxLFm9iItiFv"
      },
      "source": [
        "## Questão 4\n",
        "\n",
        "Carregue o arquivo <font style=\"font-family: monaco\">paises.csv</font>, disponível para download. Baixe o arquivo no seu diretório de trabalho para responder as questões.\n",
        "\n",
        "O arquivo <font style=\"font-family: monaco\">paises.csv</font> contém informações sobre 173 países, com a população e área de cada país.\n",
        "\n",
        "Algumas das colunas que serão importantes para resolver as questões são:\n",
        "- __País__: Nome do país\n",
        "- __População__: População do país\n",
        "- __Área (km²)__: Área do país\n",
        "\n",
        "Quais países tem densidade demográfica superior a 1000 habitantes por quilômetro quadrado e mais do que 5 milhões de habitantes?\n",
        "\n",
        "a) Bangladesh, Hong Kong, Singapura e Maldivas<br>\n",
        "b) Bangladesh, Hong Kong e Maldivas<br>\n",
        "c) Bangladesh, Hong Kong e Singapura<br>\n",
        "d) Bangladesh, Hong Kong, Singapura, Maldivas e Malta"
      ]
    },
    {
      "cell_type": "code",
      "execution_count": null,
      "metadata": {
        "id": "F3Ipvslj1V_Z"
      },
      "outputs": [],
      "source": [
        "import pandas as pd\n",
        "\n",
        "# Carregar o arquivo CSV\n",
        "df = pd.read_csv('paises.csv')\n",
        "print(df.info())"
      ]
    },
    {
      "cell_type": "markdown",
      "metadata": {
        "id": "4RbnnOkX1V_Z"
      },
      "source": [
        "## Questão 5\n",
        "\n",
        "Carregue o arquivo `CPI2023-Global-Results-Trends.csv`.\n",
        "\n",
        "\n",
        "1. Remover os NAN, eliminando as linhas que contém elementos faltantes.\n",
        "2. Qual o números de linhas eliminados e qual a correlação entre \"CPI score 2023\" e: \"Global Insights Country Risk Ratings\" e \"Varieties of Democracy Project\"?\n",
        "\n",
        "a) 60, 0.926672 e 0.902495<br>\n",
        "b) 120, 0.926672 e 0.902495<br>\n",
        "c) 60, 0.935996 e 0.899875<br>\n",
        "d) 120, 0.935996 e 0.899875<br>\n"
      ]
    },
    {
      "cell_type": "code",
      "execution_count": null,
      "metadata": {
        "id": "i2pWa2AB1V_a"
      },
      "outputs": [],
      "source": [
        "import pandas as pd\n",
        "df = pd.read_csv('CPI2023-Global-Results-Trends.csv')\n",
        "df.head()"
      ]
    }
  ],
  "metadata": {
    "colab": {
      "provenance": []
    },
    "kernelspec": {
      "display_name": "Python 3",
      "language": "python",
      "name": "python3"
    },
    "language_info": {
      "codemirror_mode": {
        "name": "ipython",
        "version": 3
      },
      "file_extension": ".py",
      "mimetype": "text/x-python",
      "name": "python",
      "nbconvert_exporter": "python",
      "pygments_lexer": "ipython3",
      "version": "3.11.5"
    },
    "toc": {
      "base_numbering": 1,
      "nav_menu": {},
      "number_sections": true,
      "sideBar": true,
      "skip_h1_title": false,
      "title_cell": "Table of Contents",
      "title_sidebar": "Contents",
      "toc_cell": false,
      "toc_position": {},
      "toc_section_display": true,
      "toc_window_display": false
    }
  },
  "nbformat": 4,
  "nbformat_minor": 0
}